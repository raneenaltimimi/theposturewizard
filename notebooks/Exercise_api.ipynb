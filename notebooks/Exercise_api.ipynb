{
 "cells": [
  {
   "cell_type": "markdown",
   "metadata": {},
   "source": [
    "## Exercise Data Base"
   ]
  },
  {
   "cell_type": "markdown",
   "metadata": {},
   "source": [
    "Authenticate username and password:"
   ]
  },
  {
   "cell_type": "code",
   "execution_count": 23,
   "metadata": {},
   "outputs": [],
   "source": [
    "import requests\n",
    "import json\n",
    "import random\n",
    "import numpy as np\n",
    "\n",
    "# First step: get authentication token from username and pass\n",
    "\n",
    "def get_token(username,password):\n",
    "    \n",
    "    response = requests.post('http://204.235.60.194/consumer/login', data={'username':username, 'password':password})\n",
    "    token =response.json()\n",
    "    return token"
   ]
  },
  {
   "cell_type": "code",
   "execution_count": 24,
   "metadata": {},
   "outputs": [],
   "source": [
    "def get_bodypart(posture):\n",
    "    \n",
    "    if posture == 'kyphosis':\n",
    "        print(\"Would you like to focus on your neck or shoulders?\")\n",
    "        answer = input().capitalize()\n",
    "        return answer\n",
    "    \n",
    "    elif posture == 'good':\n",
    "        print(\"Good job! Your posture is great!\\n If you would like an exercise choose what to focus on\")\n",
    "        answer = input().capitalize()\n",
    "        return answer\n",
    "    \n",
    "    elif posture == 'lordosis':\n",
    "        answer = input().capitalize()\n",
    "        return answer\n",
    "        "
   ]
  },
  {
   "cell_type": "markdown",
   "metadata": {},
   "source": [
    "Params:\n",
    "- **stretch**: (get one exercise) pick random\n",
    "- stretch, bodypart /exercises?stretch&stretch&bodypart=\n",
    "   **options**: Neck, Shoulders, *hips:flexors*\n",
    "- stretch, musclegroup stretch&musclegroup=__stretch, musclegroup, exercisename\n",
    "\n",
    "\n",
    "- **strength**\n",
    "- bodypart, apparatus : bodypart=__&apparatus=_\n",
    "\n"
   ]
  },
  {
   "cell_type": "code",
   "execution_count": 25,
   "metadata": {},
   "outputs": [],
   "source": [
    "# Get stretches exercise\n",
    "\n",
    "def get_stretch(posture):\n",
    "    \n",
    "    # we need token from get_token function     \n",
    "    token = get_token('raneenaexrx','StKhg6Zu')\n",
    "    url = 'http://204.235.60.194/exrxapi/v1/allinclusive/exercises?' \n",
    "    stretch_params = {'stretch':'', 'bodypart':[]}\n",
    "    # dict results \n",
    "    keys_to_extract = ['Apparatus_Name','Exercise_Name_Complete_Abbreviation','Small_Img_1','Small_Img_2',\\\n",
    "                       'Instructions_Preparation','Instructions_Execution','video_src','GIF_Img']\n",
    "    answer = get_bodypart(posture)\n",
    "    \n",
    "\n",
    "    if answer == 'Neck':\n",
    "            \n",
    "        # append bodypart to params:\n",
    "        stretch_params['bodypart'].append(answer)\n",
    "        #call URL with params\n",
    "        response = requests.get(url, params=stretch_params, headers={'Authorization': \"Bearer \"+token['token']})\n",
    "        stretches = json.loads(response.text)['exercises']\n",
    "        #choosing one random stretch exercises:\n",
    "        stretch= random.choice(stretches)\n",
    "        #pick necessary dict info from stretches Show ref. keys_to_extract\n",
    "        stretch_subset = [stretch[key] for key in keys_to_extract]\n",
    "\n",
    "        return stretch_subset\n",
    "    \n",
    "    \n",
    "    elif answer == 'Shoulders':\n",
    "        #append bodypart to params:\n",
    "        stretch_params['bodypart'].append(answer)\n",
    "        #call URL with params\n",
    "        response = requests.get(url, params=stretch_params, headers={'Authorization': \"Bearer \"+token['token']})\n",
    "        stretches = json.loads(response.text)['exercises']\n",
    "        #choosing one random stretch exercises\n",
    "        stretch= random.choice(stretches)\n",
    "        #pick necessary dict info from stretches ref. keys_to_extract\n",
    "        stretch_subset = [stretch[key] for key in keys_to_extract]\n",
    "\n",
    "        return stretch_subset\n",
    "        "
   ]
  },
  {
   "cell_type": "code",
   "execution_count": 26,
   "metadata": {},
   "outputs": [
    {
     "name": "stdout",
     "output_type": "stream",
     "text": [
      "Would you like to focus on your neck or shoulders?\n",
      "neck\n"
     ]
    },
    {
     "data": {
      "text/plain": [
       "['Stretch',\n",
       " 'Neck Rotation Stretch',\n",
       " '//app.exrx.net/upload/images/5b92b61996530.jpg',\n",
       " '//app.exrx.net/',\n",
       " 'Stand or sit.',\n",
       " 'Turn head over shoulder to one side. Hold stretch. Repeat to other side.',\n",
       " 'Sternocleidomastoid',\n",
       " '',\n",
       " '//app.exrx.net/']"
      ]
     },
     "execution_count": 26,
     "metadata": {},
     "output_type": "execute_result"
    }
   ],
   "source": [
    "get_stretch('kyphosis')"
   ]
  },
  {
   "cell_type": "code",
   "execution_count": 69,
   "metadata": {},
   "outputs": [],
   "source": [
    "# get strength exercise\n",
    "def get_exercise(posture):\n",
    "    \n",
    "    token = get_token('raneenaexrx','StKhg6Zu')\n",
    "    url = 'http://204.235.60.194/exrxapi/v1/allinclusive/exercises?'\n",
    "    strength_params = {'bodypart':[], 'apparatus':[]}\n",
    "    keys_to_extract = ['Apparatus_Name','Exercise_Name_Complete_Abbreviation','Small_Img_1','Small_Img_2',\\\n",
    "                       'Instructions_Preparation','Instructions_Execution','video_src','GIF_Img']\n",
    "    \n",
    "    answer = get_bodypart(posture)  \n",
    "    \n",
    "    if answer == 'Neck':\n",
    "             \n",
    "        # append bodypart and type of exercise to params:\n",
    "        strength_params['bodypart'].append(answer)\n",
    "        strength_params['apparatus'].append('Bodyweight')\n",
    "        \n",
    "        # call URL with params\n",
    "        response = requests.get(url, params=strength_params, headers={'Authorization': \"Bearer \"+token['token']})\n",
    "        exercise = json.loads(response.text)['exercises']\n",
    "        #choosing two random stretch exercises:\n",
    "        strength= np.random.choice(exercise,2,replace=False)\n",
    "        strength_1 = strength[0]\n",
    "        strength_2 = strength[1]\n",
    "        #pick necessary dict info from each exercise Show ref. keys_to_extract\n",
    "        strength_subset1 = [strength_1[key] for key in keys_to_extract]\n",
    "        strength_subset2 = [strength_2[key] for key in keys_to_extract]\n",
    "\n",
    "        return strength_subset1, strength_subset2\n",
    "    \n",
    "    elif answer == 'Shoulders':\n",
    "        \n",
    "        # Append bodypart\n",
    "        strength_params['bodypart'].append(answer)\n",
    "        \n",
    "        print('What equipment do you have?')           \n",
    "        # options Bodyweight, Cable, Dumbbell, \n",
    "        apparatus = input().capitalize()\n",
    "        \n",
    "        if apparatus == 'Bodyweight':\n",
    "            #append apparatus\n",
    "            strength_params['apparatus'].append(apparatus)\n",
    "            \n",
    "            response = requests.get(url, params=strength_params, headers={'Authorization': \"Bearer \"+token['token']})\n",
    "            exercise = json.loads(response.text)['exercises']\n",
    "            \n",
    "            #choosing two random stretch exercises:\n",
    "            strength= np.random.choice(exercise,2,replace=False)\n",
    "            strength_1 = strength[0]\n",
    "            strength_2 = strength[1]\n",
    "            #pick necessary dict info from each exercise Show ref. keys_to_extract\n",
    "            strength_subset1 = [strength_1[key] for key in keys_to_extract]\n",
    "            strength_subset2 = [strength_2[key] for key in keys_to_extract]\n",
    "\n",
    "            return strength_subset1, strength_subset2\n",
    "        \n",
    "        elif apparatus == 'Dumbbell':\n",
    "            #append apparatus\n",
    "            strength_params['apparatus'].append(apparatus)\n",
    "            \n",
    "            response = requests.get(url, params=strength_params, headers={'Authorization': \"Bearer \"+token['token']})\n",
    "            exercise = json.loads(response.text)['exercises']\n",
    "            \n",
    "            #choosing two random stretch exercises:\n",
    "            strength= np.random.choice(exercise,2,replace=False)\n",
    "            strength_1 = strength[0]\n",
    "            strength_2 = strength[1]\n",
    "            #pick necessary dict info from each exercise Show ref. keys_to_extract\n",
    "            strength_subset1 = [strength_1[key] for key in keys_to_extract]\n",
    "            strength_subset2 = [strength_2[key] for key in keys_to_extract]\n",
    "\n",
    "            return strength_subset1, strength_subset2\n",
    "        \n",
    "                \n",
    "        elif apparatus == 'Cable':\n",
    "            #append apparatus\n",
    "            strength_params['apparatus'].append(apparatus)\n",
    "            \n",
    "            response = requests.get(url, params=strength_params, headers={'Authorization': \"Bearer \"+token['token']})\n",
    "            exercise = json.loads(response.text)['exercises']\n",
    "            \n",
    "            #choosing two random stretch exercises:\n",
    "            strength= np.random.choice(exercise,2,replace=False)\n",
    "            strength_1 = strength[0]\n",
    "            strength_2 = strength[1]\n",
    "            #pick necessary dict info from each exercise Show ref. keys_to_extract\n",
    "            strength_subset1 = [strength_1[key] for key in keys_to_extract]\n",
    "            strength_subset2 = [strength_2[key] for key in keys_to_extract]\n",
    "\n",
    "            return strength_subset1, strength_subset2\n",
    "            \n",
    "        \n"
   ]
  },
  {
   "cell_type": "code",
   "execution_count": 66,
   "metadata": {},
   "outputs": [
    {
     "name": "stdout",
     "output_type": "stream",
     "text": [
      "Would you like to focus on your neck or shoulders?\n",
      "Shoulders\n",
      "What equipment do you have?\n",
      "cable\n"
     ]
    },
    {
     "data": {
      "text/plain": [
       "(['Cable',\n",
       "  'CB Standing Rear Delt Row (with rope)',\n",
       "  '//app.exrx.net/upload/images/5b608b49a3553.jpg',\n",
       "  '//app.exrx.net/upload/images/5b608b4cf1bf8.jpg',\n",
       "  'Stand facing rope attachment on high pulley cable. Grasp each end of rope just above enlarged ends. Step back with one foot so arms and shoulders are positioned straight forward with cable taut. Point elbows outward.',\n",
       "  'Pull rope to upper chest or neck, keeping elbows at shoulder height until elbows travel slightly behind back. Keep upper arms perpendicular to trunk. Return until arms are extended forward. Repeat.',\n",
       "  'https://player.vimeo.com/external/157027953.m3u8?s=b04f9884eabd53e861deded2f6f9f8d4593c0ecb&oauth2_token_id=1208692441',\n",
       "  '//app.exrx.net/upload/images/5b608b5d77fe9.gif'],\n",
       " ['Cable',\n",
       "  'CB Upright Row',\n",
       "  '//app.exrx.net/upload/images/5b59d4036c002.jpg',\n",
       "  '//app.exrx.net/upload/images/5b59d4a26d6bc.jpg',\n",
       "  'Grasp cable bar with shoulder width or slightly narrower overhand grip. Stand close to pulley.',\n",
       "  'Pull bar to neck with elbows leading. Allow wrists to flex as bar rises. Lower and repeat.',\n",
       "  'https://player.vimeo.com/external/156565471.m3u8?s=cd9c769c65ba4e4feac17627d4d8f431dd22d8fb&oauth2_token_id=1208692441',\n",
       "  '//app.exrx.net/upload/images/5b59d4ac80577.gif'])"
      ]
     },
     "execution_count": 66,
     "metadata": {},
     "output_type": "execute_result"
    }
   ],
   "source": [
    "get_exercise('kyphosis')"
   ]
  },
  {
   "cell_type": "code",
   "execution_count": 72,
   "metadata": {},
   "outputs": [],
   "source": [
    "def main(posture):\n",
    "    stretch = get_stretch(posture)\n",
    "    exercises = get_exercise(posture)\n",
    "    return stretch, exercises"
   ]
  },
  {
   "cell_type": "code",
   "execution_count": 73,
   "metadata": {},
   "outputs": [
    {
     "name": "stdout",
     "output_type": "stream",
     "text": [
      "Would you like to focus on your neck or shoulders?\n",
      "shoulders\n",
      "Would you like to focus on your neck or shoulders?\n",
      "shoulders\n",
      "What equipment do you have?\n",
      "bodyweight\n"
     ]
    },
    {
     "data": {
      "text/plain": [
       "(['Stretch',\n",
       "  'Doorway Front Deltoid Stretch',\n",
       "  '//app.exrx.net/upload/images/5b94e252eefbb.jpg',\n",
       "  '//app.exrx.net/',\n",
       "  'Stand at end of wall or in doorway facing perpendicular to wall. Position palm on surface of wall slightly lower than shoulder. Bend elbow slightly.',\n",
       "  'Turn body away from positioned arm. Hold stretch. Repeat with opposite arm.',\n",
       "  'Anterior Deltoid',\n",
       "  '',\n",
       "  '//app.exrx.net/'],\n",
       " (['Bodyweight',\n",
       "   'Decline Pike Press',\n",
       "   '//app.exrx.net/upload/images/5b560b0f9a5eb.jpg',\n",
       "   '//app.exrx.net/upload/images/5b560b1399b56.jpg',\n",
       "   'Stand between two incline benches positioned side by side slightly apart at end nearest head. Place hands on ends of benches and straighten arms. Position forefeet on opposite ends of bench. Raise rear end high up with arms, back, and knees straight.',\n",
       "   'Lower head between ends of benches by bending arms. Push body back up to original position by extending arms. Repeat.',\n",
       "   'https://player.vimeo.com/external/157023027.m3u8?s=07d533c7ef239e28237dbed2335ec870b9cde852&oauth2_token_id=1208692441',\n",
       "   '//app.exrx.net/upload/images/5b560b1ddee93.gif'],\n",
       "  ['Bodyweight',\n",
       "   'Handstand Shoulder Press (between benches)',\n",
       "   '//app.exrx.net/upload/images/5b5606497c039.jpg',\n",
       "   '//app.exrx.net/upload/images/5b56064c7b535.jpg',\n",
       "   'Stand facing wall between two benches positioned side by side, slightly apart, and slightly away and perpendicular to wall. Place hands on ends of benches closest to wall. Place forefeet on bench and kick lower body up to handstand position with arms and legs straight. Maintain balance with lower body against wall.\\n',\n",
       "   'Lower head between ends of benches by bending arms. Push body back up to original position by extending arms. Repeat.',\n",
       "   'https://player.vimeo.com/external/157023021.m3u8?s=e1f0726ff2396104f3dbf21fc8875148c53bdff8&oauth2_token_id=1208692441',\n",
       "   '//app.exrx.net/upload/images/5b560658ec578.gif']))"
      ]
     },
     "execution_count": 73,
     "metadata": {},
     "output_type": "execute_result"
    }
   ],
   "source": [
    "main('kyphosis')"
   ]
  },
  {
   "cell_type": "code",
   "execution_count": null,
   "metadata": {},
   "outputs": [],
   "source": []
  }
 ],
 "metadata": {
  "kernelspec": {
   "display_name": "Python 3",
   "language": "python",
   "name": "python3"
  },
  "language_info": {
   "codemirror_mode": {
    "name": "ipython",
    "version": 3
   },
   "file_extension": ".py",
   "mimetype": "text/x-python",
   "name": "python",
   "nbconvert_exporter": "python",
   "pygments_lexer": "ipython3",
   "version": "3.7.7"
  },
  "toc": {
   "base_numbering": 1,
   "nav_menu": {},
   "number_sections": true,
   "sideBar": true,
   "skip_h1_title": false,
   "title_cell": "Table of Contents",
   "title_sidebar": "Contents",
   "toc_cell": false,
   "toc_position": {},
   "toc_section_display": true,
   "toc_window_display": false
  }
 },
 "nbformat": 4,
 "nbformat_minor": 4
}
