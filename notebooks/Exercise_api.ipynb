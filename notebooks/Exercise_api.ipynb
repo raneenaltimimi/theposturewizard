{
 "cells": [
  {
   "cell_type": "markdown",
   "metadata": {},
   "source": [
    "## Exercise Data Base"
   ]
  },
  {
   "cell_type": "markdown",
   "metadata": {},
   "source": [
    "Authenticate username and password:"
   ]
  },
  {
   "cell_type": "code",
   "execution_count": 8,
   "metadata": {},
   "outputs": [],
   "source": [
    "import requests\n",
    "import json\n",
    "import random\n",
    "\n",
    "# First step: get authentication token from username and pass\n",
    "\n",
    "def get_token(username,password):\n",
    "    \n",
    "    response = requests.post('http://204.235.60.194/consumer/login', data={'username':username, 'password':password})\n",
    "    token =response.json()\n",
    "    return token"
   ]
  },
  {
   "cell_type": "code",
   "execution_count": 9,
   "metadata": {},
   "outputs": [],
   "source": [
    "def get_bodypart(posture):\n",
    "    \n",
    "    if posture == 'kyphosis':\n",
    "        print(\"Would you like to focus on your neck or shoulders?\")\n",
    "        answer = input().capitalize()\n",
    "        return answer\n",
    "    \n",
    "    elif posture == 'good':\n",
    "        print(\"Good job! Your posture is great!\\n If you would like an exercise choose what to focus on\")\n",
    "        answer = input().capitalize()\n",
    "        return answer\n",
    "    \n",
    "    elif posture == 'lordosis':\n",
    "        answer = input().capitalize()\n",
    "        return answer\n",
    "        "
   ]
  },
  {
   "cell_type": "markdown",
   "metadata": {},
   "source": [
    "Params:\n",
    "- **stretch**: (get one exercise) pick random\n",
    "- stretch, bodypart /exercises?stretch&stretch&bodypart=\n",
    "   **options**: Neck, Shoulders, *hips:flexors*\n",
    "- stretch, musclegroup stretch&musclegroup=__stretch, musclegroup, exercisename\n",
    "\n",
    "\n",
    "- **strength**\n",
    "- bodypart, apparatus : bodypart=__&apparatus=_\n",
    "\n"
   ]
  },
  {
   "cell_type": "code",
   "execution_count": 10,
   "metadata": {},
   "outputs": [],
   "source": [
    "# Get stretches exercise\n",
    "\n",
    "def get_stretch(posture):\n",
    "    \n",
    "    # we need token from get_token function     \n",
    "    token = get_token('raneenaexrx','StKhg6Zu')\n",
    "    url = 'http://204.235.60.194/exrxapi/v1/allinclusive/exercises?' \n",
    "    stretch_params = {'stretch':'', 'bodypart':[]}\n",
    "    # dict results \n",
    "    keys_to_extract = ['Apparatus_Name','Exercise_Name_Complete_Abbreviation','Small_Img_1','Small_Img_2',\\\n",
    "                       'Instructions_Preparation','Instructions_Execution','Target_Muscle_Group','video_src','GIF_Img']\n",
    "    answer = get_bodypart(posture)\n",
    "    \n",
    "\n",
    "    if answer == 'Neck':\n",
    "            \n",
    "        # append bodypart to params:\n",
    "        stretch_params['bodypart'].append(answer)\n",
    "        #call URL with params\n",
    "        response = requests.get(url, params=stretch_params, headers={'Authorization': \"Bearer \"+token['token']})\n",
    "        stretches = json.loads(response.text)['exercises']\n",
    "        #choosing one random stretch exercises:\n",
    "        stretch= random.choice(stretches)\n",
    "        #pick necessary dict info from stretches Show ref. keys_to_extract\n",
    "        stretch_subset = [stretch[key] for key in keys_to_extract]\n",
    "\n",
    "        return stretch_subset\n",
    "    \n",
    "    \n",
    "    elif answer == 'Shoulders':\n",
    "        #append bodypart to params:\n",
    "        stretch_params['bodypart'].append(answer)\n",
    "        #call URL with params\n",
    "        response = requests.get(url, params=stretch_params, headers={'Authorization': \"Bearer \"+token['token']})\n",
    "        stretches = json.loads(response.text)['exercises']\n",
    "        #choosing one random stretch exercises\n",
    "        stretch= random.choice(stretches)\n",
    "        #pick necessary dict info from stretches ref. keys_to_extract\n",
    "        stretch_subset = [stretch[key] for key in keys_to_extract]\n",
    "\n",
    "        return stretch_subset\n",
    "        "
   ]
  },
  {
   "cell_type": "code",
   "execution_count": 11,
   "metadata": {},
   "outputs": [
    {
     "name": "stdout",
     "output_type": "stream",
     "text": [
      "Would you like to focus on your neck or shoulders?\n",
      "neck\n"
     ]
    },
    {
     "data": {
      "text/plain": [
       "['Stretch',\n",
       " 'Neck Retraction Stretch',\n",
       " '//app.exrx.net/upload/images/5b92b5a0dd6cd.jpg',\n",
       " '//app.exrx.net/',\n",
       " 'Stand or sit.',\n",
       " 'Pull head back as far possible while looking slightly down and hold stretch.',\n",
       " 'Sternocleidomastoid',\n",
       " '',\n",
       " '//app.exrx.net/']"
      ]
     },
     "execution_count": 11,
     "metadata": {},
     "output_type": "execute_result"
    }
   ],
   "source": [
    "get_stretch('kyphosis')"
   ]
  },
  {
   "cell_type": "code",
   "execution_count": 58,
   "metadata": {},
   "outputs": [
    {
     "ename": "SyntaxError",
     "evalue": "unexpected EOF while parsing (<ipython-input-58-2b8260a16fbb>, line 50)",
     "output_type": "error",
     "traceback": [
      "\u001b[0;36m  File \u001b[0;32m\"<ipython-input-58-2b8260a16fbb>\"\u001b[0;36m, line \u001b[0;32m50\u001b[0m\n\u001b[0;31m    # #     choose body weight exercises\u001b[0m\n\u001b[0m                                        ^\u001b[0m\n\u001b[0;31mSyntaxError\u001b[0m\u001b[0;31m:\u001b[0m unexpected EOF while parsing\n"
     ]
    }
   ],
   "source": [
    "# get strength exercise\n",
    "def get_Exercise(posture):\n",
    "    \n",
    "    token = get_token('raneenaexrx','StKhg6Zu')\n",
    "    url = 'http://204.235.60.194/exrxapi/v1/allinclusive/exercises?'\n",
    "    strength_params = {'bodypart':[], 'apparatus':[]}\n",
    "    keys_to_extract = ['Apparatus_Name','Exercise_Name_Complete_Abbreviation','Small_Img_1','Small_Img_2',\\\n",
    "                       'Instructions_Preparation','Instructions_Execution','Target_Muscle_Group','video_src','GIF_Img']\n",
    "    \n",
    "    answer = get_bodypart(posture)\n",
    "        \n",
    "    \n",
    "    if answer == 'Neck':\n",
    "        \n",
    "        url = 'http://204.235.60.194/exrxapi/v1/allinclusive/exercises?'\n",
    "        params = {'stretch':'', 'bodypart':'Neck'}\n",
    "        response = requests.get(url, params=params, headers={'Authorization': \"Bearer \"+token['token']})\n",
    "\n",
    "        exercise = json.loads(response.text)\n",
    "        exercise\n",
    "    \n",
    "        print(\"What type of exercise would you like? free weights, bodyweight or machines?\")\n",
    "        answer = input ()\n",
    "    \n",
    "#     choose exercises that have free weights\n",
    "    if answer.lower == 'free weights':\n",
    "\n",
    "        \n",
    "\n",
    "#     choose exercises that are body weight only\n",
    "\n",
    "\n",
    "\n",
    "#     choose body weight exercises\n",
    "\n",
    "    \n",
    "\n",
    "\n",
    "# #     choose exercises that have free weights\n",
    "#     if answer.lower == 'free weights':\n",
    "\n",
    "        \n",
    "\n",
    "# #     choose exercises that are body weight only\n",
    "\n",
    "\n",
    "\n",
    "# #     choose body weight exercises"
   ]
  },
  {
   "cell_type": "code",
   "execution_count": null,
   "metadata": {},
   "outputs": [],
   "source": []
  }
 ],
 "metadata": {
  "kernelspec": {
   "display_name": "Python 3",
   "language": "python",
   "name": "python3"
  },
  "language_info": {
   "codemirror_mode": {
    "name": "ipython",
    "version": 3
   },
   "file_extension": ".py",
   "mimetype": "text/x-python",
   "name": "python",
   "nbconvert_exporter": "python",
   "pygments_lexer": "ipython3",
   "version": "3.7.7"
  },
  "toc": {
   "base_numbering": 1,
   "nav_menu": {},
   "number_sections": true,
   "sideBar": true,
   "skip_h1_title": false,
   "title_cell": "Table of Contents",
   "title_sidebar": "Contents",
   "toc_cell": false,
   "toc_position": {},
   "toc_section_display": true,
   "toc_window_display": false
  }
 },
 "nbformat": 4,
 "nbformat_minor": 4
}
