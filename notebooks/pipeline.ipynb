{
 "cells": [
  {
   "cell_type": "code",
   "execution_count": 1,
   "metadata": {},
   "outputs": [],
   "source": [
    "import requests\n",
    "import json\n",
    "import random\n",
    "import numpy as np\n",
    "from PIL import Image\n",
    "from tensorflow.keras.preprocessing.image import img_to_array\n",
    "from tensorflow.keras.models import load_model\n",
    "\n",
    "PATH_TO_IMG = \"IMG_20201210_160628.jpg\"\n",
    "PATH_TO_MODEL = \"../models/RV2-NASNetMobile-non-trainable\"\n"
   ]
  },
  {
   "cell_type": "code",
   "execution_count": 2,
   "metadata": {},
   "outputs": [],
   "source": [
    "# load model\n",
    "model = load_model(PATH_TO_MODEL)\n"
   ]
  },
  {
   "cell_type": "code",
   "execution_count": 3,
   "metadata": {},
   "outputs": [],
   "source": [
    "# load image and process\n",
    "def get_proc(path):\n",
    "    width = 75\n",
    "    height = 150\n",
    "    \n",
    "    img = Image.open(path)\n",
    "    img = img.resize((width, height), resample=1)\n",
    "    img = img_to_array(img)\n",
    "    img = img/255\n",
    "    img = img.astype('float32')\n",
    "    img = np.expand_dims(img, axis=0)\n",
    "    \n",
    "    return img\n",
    "    \n",
    "# prediction\n",
    "def get_pred(img):\n",
    "    return model.predict(img)[0,0]\n",
    "\n",
    "\n",
    "# post_process\n",
    "def post_process(pred):\n",
    "    labels = ['good', 'kyphosis']\n",
    "    threshold = 0.5\n",
    "    \n",
    "    if pred >= threshold:\n",
    "        index = 1\n",
    "        \n",
    "    else:\n",
    "        index = 0\n",
    "        \n",
    "    return labels[index]\n",
    "\n",
    "\n",
    "def pipe(path):\n",
    "    img = get_proc(path)\n",
    "    pred = get_pred(img)\n",
    "    label = post_process(pred)\n",
    "    \n",
    "    return label"
   ]
  },
  {
   "cell_type": "code",
   "execution_count": 90,
   "metadata": {},
   "outputs": [],
   "source": [
    "APPARATUS = \"Bodyweight\"\n",
    "PART_OF_BODY = \"Shoulders\"\n",
    "\n",
    "\n",
    "def get_token(username,password):\n",
    "    response = requests.post('http://204.235.60.194/consumer/login', data={'username':username, 'password':password})\n",
    "    token =response.json()\n",
    "    return token\n",
    "\n",
    "\n",
    "def request(param, token, n_exercise):\n",
    "    url = 'http://204.235.60.194/exrxapi/v1/allinclusive/exercises?'\n",
    "    keys_to_extract = ['Apparatus_Name','Exercise_Name_Complete_Abbreviation','Small_Img_1','Small_Img_2','Larg_Img_1',\\\n",
    "                       'Instructions_Preparation','Instructions_Execution','video_src','GIF_Img']\n",
    "    \n",
    "    response = requests.get(url, params=param, headers={'Authorization': \"Bearer \"+token['token']})\n",
    "    response = json.loads(response.text)['exercises']\n",
    "    \n",
    "    exercices = np.random.choice(response,n_exercise,replace=False)\n",
    "    ex_list = [dict((key, value) for (key, value) in exercice.items() if key in keys_to_extract) for exercice in exercices]\n",
    "\n",
    "    return ex_list\n",
    "        \n",
    "    \n",
    "def main(apparatus, part_of_body):\n",
    "    token = get_token('raneenaexrx','StKhg6Zu')\n",
    "    stretch_params = {'stretch':'', 'bodypart':[part_of_body]}\n",
    "    strength_params = {'bodypart':[part_of_body], 'apparatus':[apparatus]}\n",
    "    \n",
    "    response_stretch = request(stretch_params, token,1)\n",
    "    response_strength = request(strength_params, token,2)\n",
    "    \n",
    "    return response_stretch, response_strength\n",
    "    \n",
    "    \n",
    "def activate():\n",
    "    if pipe(PATH_TO_IMG) == 'kyphosis':\n",
    "        return main(APPARATUS, PART_OF_BODY)"
   ]
  },
  {
   "cell_type": "code",
   "execution_count": 91,
   "metadata": {},
   "outputs": [],
   "source": [
    "stretch, strength = activate()\n"
   ]
  },
  {
   "cell_type": "code",
   "execution_count": 92,
   "metadata": {},
   "outputs": [
    {
     "data": {
      "text/plain": [
       "[{'Apparatus_Name': 'Stretch',\n",
       "  'Instructions_Preparation': 'Face stationary bar. Grasp stationary bar with one hand approximately face height. Rotate body so upper arm is positioned across neck.',\n",
       "  'Instructions_Execution': 'Turn body into upper arm. Hold stretch. Repeat with opposite arm.',\n",
       "  'Small_Img_1': '//app.exrx.net/upload/images/5b94e4d3046e7.jpg',\n",
       "  'Small_Img_2': '//app.exrx.net/',\n",
       "  'Larg_Img_1': '//app.exrx.net/upload/images/5b94e4dacefd2.jpg',\n",
       "  'GIF_Img': '//app.exrx.net/',\n",
       "  'video_src': '',\n",
       "  'Exercise_Name_Complete_Abbreviation': 'Fixed Bar Rear Deltoid Stretch'}]"
      ]
     },
     "execution_count": 92,
     "metadata": {},
     "output_type": "execute_result"
    }
   ],
   "source": [
    "stretch"
   ]
  },
  {
   "cell_type": "code",
   "execution_count": 93,
   "metadata": {},
   "outputs": [
    {
     "data": {
      "text/plain": [
       "[{'Apparatus_Name': 'Bodyweight',\n",
       "  'Instructions_Preparation': 'Lay on back with belly under fixed horizontal bar. Bend knees and position feet on floor. Grasp bar with wide overhand grip. Turn elbows outward to sides.\\nWalk forward under bar while pulling upper chest close to bar. With heels on floor, position body at angle under bar with legs, hips and spine straight. Position forearms perpendicular to body, orientated forward. Also, position upper arms perpendicular to body, orientated to each side.',\n",
       "  'Instructions_Execution': 'Keeping hips on floor, low back straight, and elbow pointed out to sides; pull torso up to bar. Return when upper arms are just beyond parallel to one another. Lower body downward until arms are extended straight. Return and repeat.',\n",
       "  'Small_Img_1': '//app.exrx.net/upload/images/5b647c46210f5.jpg',\n",
       "  'Small_Img_2': '//app.exrx.net/upload/images/5b647c4ae85f4.jpg',\n",
       "  'Larg_Img_1': '//app.exrx.net/upload/images/5b647c5572d15.jpg',\n",
       "  'GIF_Img': '//app.exrx.net/upload/images/5b647c511fa27.gif',\n",
       "  'video_src': 'https://player.vimeo.com/external/157028003.m3u8?s=e70130390ee2f03422cf5a24981fc532ca91779f&oauth2_token_id=1360442027',\n",
       "  'Exercise_Name_Complete_Abbreviation': 'Rear Delt Inverted Row (on hips)'},\n",
       " {'Apparatus_Name': 'Bodyweight',\n",
       "  'Instructions_Preparation': 'Stand facing wall between two benches positioned side by side, slightly apart, and slightly away and perpendicular to wall. Place hands on ends of benches closest to wall. Place forefeet on bench and kick lower body up to handstand position with arms and legs straight. Maintain balance with lower body against wall.\\n',\n",
       "  'Instructions_Execution': 'Lower head between ends of benches by bending arms. Push body back up to original position by extending arms. Repeat.',\n",
       "  'Small_Img_1': '//app.exrx.net/upload/images/5b5606497c039.jpg',\n",
       "  'Small_Img_2': '//app.exrx.net/upload/images/5b56064c7b535.jpg',\n",
       "  'Larg_Img_1': '//app.exrx.net/upload/images/5b56076282437.jpg',\n",
       "  'GIF_Img': '//app.exrx.net/upload/images/5b560658ec578.gif',\n",
       "  'video_src': 'https://player.vimeo.com/external/157023021.m3u8?s=e1f0726ff2396104f3dbf21fc8875148c53bdff8&oauth2_token_id=1208692441',\n",
       "  'Exercise_Name_Complete_Abbreviation': 'Handstand Shoulder Press (between benches)'}]"
      ]
     },
     "execution_count": 93,
     "metadata": {},
     "output_type": "execute_result"
    }
   ],
   "source": [
    "strength"
   ]
  },
  {
   "cell_type": "code",
   "execution_count": null,
   "metadata": {},
   "outputs": [],
   "source": []
  }
 ],
 "metadata": {
  "kernelspec": {
   "display_name": "Python 3",
   "language": "python",
   "name": "python3"
  },
  "language_info": {
   "codemirror_mode": {
    "name": "ipython",
    "version": 3
   },
   "file_extension": ".py",
   "mimetype": "text/x-python",
   "name": "python",
   "nbconvert_exporter": "python",
   "pygments_lexer": "ipython3",
   "version": "3.7.7"
  }
 },
 "nbformat": 4,
 "nbformat_minor": 4
}
