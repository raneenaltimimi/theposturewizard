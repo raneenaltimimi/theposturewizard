{
 "cells": [
  {
   "cell_type": "code",
   "execution_count": 1,
   "metadata": {},
   "outputs": [],
   "source": [
    "import requests\n",
    "import json\n",
    "import random\n",
    "import numpy as np\n",
    "from PIL import Image\n",
    "from tensorflow.keras.preprocessing.image import img_to_array\n",
    "from tensorflow.keras.models import load_model\n",
    "\n",
    "PATH_TO_IMG = \"IMG_20201210_160628.jpg\"\n",
    "PATH_TO_MODEL = \"../models/RV2-NASNetMobile-non-trainable\"\n"
   ]
  },
  {
   "cell_type": "code",
   "execution_count": 2,
   "metadata": {},
   "outputs": [],
   "source": [
    "# load model\n",
    "model = load_model(PATH_TO_MODEL)\n"
   ]
  },
  {
   "cell_type": "code",
   "execution_count": 3,
   "metadata": {},
   "outputs": [],
   "source": [
    "# load image and process\n",
    "def get_proc(path):\n",
    "    width = 75\n",
    "    height = 150\n",
    "    \n",
    "    img = Image.open(path)\n",
    "    img = img.resize((width, height), resample=1)\n",
    "    img = img_to_array(img)\n",
    "    img = img/255\n",
    "    img = img.astype('float32')\n",
    "    img = np.expand_dims(img, axis=0)\n",
    "    \n",
    "    return img\n",
    "    \n",
    "# prediction\n",
    "def get_pred(img):\n",
    "    return model.predict(img)[0,0]\n",
    "\n",
    "\n",
    "# post_process\n",
    "def post_process(pred):\n",
    "    labels = ['good', 'kyphosis']\n",
    "    threshold = 0.5\n",
    "    \n",
    "    if pred >= threshold:\n",
    "        index = 1\n",
    "        \n",
    "    else:\n",
    "        index = 0\n",
    "        \n",
    "    return labels[index]\n",
    "\n",
    "\n",
    "def pipe(path):\n",
    "    img = get_proc(path)\n",
    "    pred = get_pred(img)\n",
    "    label = post_process(pred)\n",
    "    \n",
    "    return label"
   ]
  },
  {
   "cell_type": "code",
   "execution_count": 78,
   "metadata": {},
   "outputs": [],
   "source": [
    "APPARATUS = \"Bodyweight\"\n",
    "PART_OF_BODY = \"Shoulders\"\n",
    "\n",
    "\n",
    "def get_token(username,password):\n",
    "    response = requests.post('http://204.235.60.194/consumer/login', data={'username':username, 'password':password})\n",
    "    token =response.json()\n",
    "    return token\n",
    "\n",
    "\n",
    "def request(param, token, n_exercise):\n",
    "    url = 'http://204.235.60.194/exrxapi/v1/allinclusive/exercises?'\n",
    "    keys_to_extract = ['Apparatus_Name','Exercise_Name_Complete_Abbreviation','Small_Img_1','Small_Img_2','Larg_Img_1',\\\n",
    "                       'Instructions_Preparation','Instructions_Execution','video_src','GIF_Img']\n",
    "    \n",
    "    response = requests.get(url, params=param, headers={'Authorization': \"Bearer \"+token['token']})\n",
    "    response = json.loads(response.text)['exercises']\n",
    "    \n",
    "    exercices = np.random.choice(response,n_exercise,replace=False)\n",
    "    ex_list = []\n",
    "    for exercice in exercices:\n",
    "        ex_list.append(dict( (key, value) for (key, value) in exercice.items() if key in keys_to_extract))\n",
    "\n",
    "    return ex_list\n",
    "        \n",
    "    \n",
    "    \n",
    "def main(apparatus, part_of_body):\n",
    "    token = get_token('raneenaexrx','StKhg6Zu')\n",
    "    \n",
    "    stretch_params = {'stretch':'', 'bodypart':[]}\n",
    "    strength_params = {'bodypart':[], 'apparatus':[]}\n",
    "    \n",
    "    stretch_params['bodypart'].append(part_of_body)\n",
    "    strength_params['bodypart'].append(part_of_body)\n",
    "    strength_params['apparatus'].append(apparatus)\n",
    "\n",
    "    \n",
    "    response_stretch = request(stretch_params, token,1)\n",
    "    response_strength = request(strength_params, token,2)\n",
    "    \n",
    "    return response_stretch, response_strength\n",
    "    \n",
    "    \n",
    "def activate():\n",
    "    if pipe(PATH_TO_IMG) == 'kyphosis':\n",
    "        return main(APPARATUS, PART_OF_BODY)"
   ]
  },
  {
   "cell_type": "code",
   "execution_count": 79,
   "metadata": {},
   "outputs": [],
   "source": [
    "stretch, strength = activate()\n"
   ]
  }
 ],
 "metadata": {
  "kernelspec": {
   "display_name": "Python 3",
   "language": "python",
   "name": "python3"
  },
  "language_info": {
   "codemirror_mode": {
    "name": "ipython",
    "version": 3
   },
   "file_extension": ".py",
   "mimetype": "text/x-python",
   "name": "python",
   "nbconvert_exporter": "python",
   "pygments_lexer": "ipython3",
   "version": "3.7.7"
  }
 },
 "nbformat": 4,
 "nbformat_minor": 4
}
