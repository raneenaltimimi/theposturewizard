{
 "cells": [
  {
   "cell_type": "code",
   "execution_count": 13,
   "metadata": {},
   "outputs": [],
   "source": [
    "import numpy as np\n",
    "from PIL import Image\n",
    "from tensorflow.keras.preprocessing.image import img_to_array\n",
    "from tensorflow.keras.models import load_model\n",
    "\n",
    "PATH_TO_IMG = \"IMG_20201210_100826.jpg\"\n",
    "PATH_TO_MODEL = \"../RV2-NASNetMobile-non-trainable\"\n"
   ]
  },
  {
   "cell_type": "code",
   "execution_count": null,
   "metadata": {},
   "outputs": [],
   "source": [
    "# load model\n",
    "model = load_model(PATH_TO_MODEL)\n"
   ]
  },
  {
   "cell_type": "code",
   "execution_count": 32,
   "metadata": {},
   "outputs": [],
   "source": [
    "# load image and process\n",
    "def get_proc(path):\n",
    "    width = 75\n",
    "    height = 150\n",
    "    \n",
    "    img = Image.open(path)\n",
    "    img = img.resize((width, height), resample=1)\n",
    "    img = img_to_array(img)\n",
    "    img = img/255\n",
    "    img = img.astype('float32')\n",
    "    img = np.expand_dims(img, axis=0)\n",
    "    \n",
    "    return img\n",
    "    \n",
    "# prediction\n",
    "def get_pred(img):\n",
    "    return model.predict(img)[0,0]\n",
    "\n",
    "\n",
    "# post_process\n",
    "def post_process(pred):\n",
    "    labels = ['good', 'kyphosis']\n",
    "    threshold = 0.5\n",
    "    \n",
    "    if pred >= threshold:\n",
    "        index = 1\n",
    "        \n",
    "    else:\n",
    "        index = 0\n",
    "        \n",
    "    return labels[index]\n",
    "\n",
    "\n",
    "def pipe(path):\n",
    "    img = get_proc(path)\n",
    "    pred = get_pred(img)\n",
    "    label = post_process(pred)\n",
    "    \n",
    "    return label"
   ]
  },
  {
   "cell_type": "code",
   "execution_count": 34,
   "metadata": {},
   "outputs": [
    {
     "data": {
      "text/plain": [
       "'good'"
      ]
     },
     "execution_count": 34,
     "metadata": {},
     "output_type": "execute_result"
    }
   ],
   "source": [
    "pipe(PATH_TO_IMG)"
   ]
  },
  {
   "cell_type": "code",
   "execution_count": null,
   "metadata": {},
   "outputs": [],
   "source": [
    "# def get_neck_exercise_and_stretch(type_of_exercise(freeweights and/or machine)):\n",
    "    # request stretch\n",
    "    # request exercise based on type_of_exercise\n",
    "\n",
    "\n",
    "# def get_shoulders_exercise_and_stretch(type_of_exercise(freeweights and/or machine))\n",
    "    # request stretch\n",
    "    # request exercise based on type_of_exercise\n",
    "\n",
    "\n",
    "    \n",
    "    \n",
    "    \n",
    "# def main(type_of_exercise, part_of_body(neck, shoulders)):\n",
    "\n",
    "        # if part_of_body == neck:\n",
    "            # return get_neck_exercise_and_stretch(type_of_exercise)\n",
    "\n",
    "        # elif part_of_body == shoulders:\n",
    "            # return get_shoulders_exercise_and_stretch(type_of_exercise)\n",
    "    \n",
    "    \n",
    "    \n",
    "# if pred == kyphosis:\n",
    "    # prompt user for part_of_body and type_of_exercise\n",
    "    # run main()"
   ]
  },
  {
   "cell_type": "code",
   "execution_count": 36,
   "metadata": {},
   "outputs": [
    {
     "data": {
      "text/plain": [
       "array([0, 1, 3, 2, 4])"
      ]
     },
     "execution_count": 36,
     "metadata": {},
     "output_type": "execute_result"
    }
   ],
   "source": [
    "np.random.choice(5, 5, replace=False)"
   ]
  },
  {
   "cell_type": "code",
   "execution_count": null,
   "metadata": {},
   "outputs": [],
   "source": []
  }
 ],
 "metadata": {
  "kernelspec": {
   "display_name": "Python 3",
   "language": "python",
   "name": "python3"
  },
  "language_info": {
   "codemirror_mode": {
    "name": "ipython",
    "version": 3
   },
   "file_extension": ".py",
   "mimetype": "text/x-python",
   "name": "python",
   "nbconvert_exporter": "python",
   "pygments_lexer": "ipython3",
   "version": "3.7.7"
  }
 },
 "nbformat": 4,
 "nbformat_minor": 4
}
